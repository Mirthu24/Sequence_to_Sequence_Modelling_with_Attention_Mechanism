{
  "nbformat": 4,
  "nbformat_minor": 0,
  "metadata": {
    "colab": {
      "provenance": [],
      "gpuType": "T4",
      "mount_file_id": "16B0ENnZmGdsEb03RLg6VPYwK1FtIayyo",
      "authorship_tag": "ABX9TyNAAEdmlECpecyVhIxTuf3Z",
      "include_colab_link": true
    },
    "kernelspec": {
      "name": "python3",
      "display_name": "Python 3"
    },
    "language_info": {
      "name": "python"
    },
    "accelerator": "GPU"
  },
  "cells": [
    {
      "cell_type": "markdown",
      "metadata": {
        "id": "view-in-github",
        "colab_type": "text"
      },
      "source": [
        "<a href=\"https://colab.research.google.com/github/Mirthu24/Sequence_to_Sequence_Modelling_with_Attention_Mechanism/blob/main/Sequence2Sequence.ipynb\" target=\"_parent\"><img src=\"https://colab.research.google.com/assets/colab-badge.svg\" alt=\"Open In Colab\"/></a>"
      ]
    },
    {
      "cell_type": "code",
      "execution_count": 1,
      "metadata": {
        "id": "pULbrlTMfxsS",
        "colab": {
          "base_uri": "https://localhost:8080/"
        },
        "outputId": "958431bb-9e84-44a9-a400-6331d740227d"
      },
      "outputs": [
        {
          "output_type": "stream",
          "name": "stdout",
          "text": [
            "Requirement already satisfied: torch in /usr/local/lib/python3.11/dist-packages (2.6.0+cu124)\n",
            "Requirement already satisfied: torchvision in /usr/local/lib/python3.11/dist-packages (0.21.0+cu124)\n",
            "Collecting torchtext\n",
            "  Downloading torchtext-0.18.0-cp311-cp311-manylinux1_x86_64.whl.metadata (7.9 kB)\n",
            "Requirement already satisfied: matplotlib in /usr/local/lib/python3.11/dist-packages (3.10.0)\n",
            "Requirement already satisfied: filelock in /usr/local/lib/python3.11/dist-packages (from torch) (3.18.0)\n",
            "Requirement already satisfied: typing-extensions>=4.10.0 in /usr/local/lib/python3.11/dist-packages (from torch) (4.13.0)\n",
            "Requirement already satisfied: networkx in /usr/local/lib/python3.11/dist-packages (from torch) (3.4.2)\n",
            "Requirement already satisfied: jinja2 in /usr/local/lib/python3.11/dist-packages (from torch) (3.1.6)\n",
            "Requirement already satisfied: fsspec in /usr/local/lib/python3.11/dist-packages (from torch) (2025.3.2)\n",
            "Collecting nvidia-cuda-nvrtc-cu12==12.4.127 (from torch)\n",
            "  Downloading nvidia_cuda_nvrtc_cu12-12.4.127-py3-none-manylinux2014_x86_64.whl.metadata (1.5 kB)\n",
            "Collecting nvidia-cuda-runtime-cu12==12.4.127 (from torch)\n",
            "  Downloading nvidia_cuda_runtime_cu12-12.4.127-py3-none-manylinux2014_x86_64.whl.metadata (1.5 kB)\n",
            "Collecting nvidia-cuda-cupti-cu12==12.4.127 (from torch)\n",
            "  Downloading nvidia_cuda_cupti_cu12-12.4.127-py3-none-manylinux2014_x86_64.whl.metadata (1.6 kB)\n",
            "Collecting nvidia-cudnn-cu12==9.1.0.70 (from torch)\n",
            "  Downloading nvidia_cudnn_cu12-9.1.0.70-py3-none-manylinux2014_x86_64.whl.metadata (1.6 kB)\n",
            "Collecting nvidia-cublas-cu12==12.4.5.8 (from torch)\n",
            "  Downloading nvidia_cublas_cu12-12.4.5.8-py3-none-manylinux2014_x86_64.whl.metadata (1.5 kB)\n",
            "Collecting nvidia-cufft-cu12==11.2.1.3 (from torch)\n",
            "  Downloading nvidia_cufft_cu12-11.2.1.3-py3-none-manylinux2014_x86_64.whl.metadata (1.5 kB)\n",
            "Collecting nvidia-curand-cu12==10.3.5.147 (from torch)\n",
            "  Downloading nvidia_curand_cu12-10.3.5.147-py3-none-manylinux2014_x86_64.whl.metadata (1.5 kB)\n",
            "Collecting nvidia-cusolver-cu12==11.6.1.9 (from torch)\n",
            "  Downloading nvidia_cusolver_cu12-11.6.1.9-py3-none-manylinux2014_x86_64.whl.metadata (1.6 kB)\n",
            "Collecting nvidia-cusparse-cu12==12.3.1.170 (from torch)\n",
            "  Downloading nvidia_cusparse_cu12-12.3.1.170-py3-none-manylinux2014_x86_64.whl.metadata (1.6 kB)\n",
            "Requirement already satisfied: nvidia-cusparselt-cu12==0.6.2 in /usr/local/lib/python3.11/dist-packages (from torch) (0.6.2)\n",
            "Requirement already satisfied: nvidia-nccl-cu12==2.21.5 in /usr/local/lib/python3.11/dist-packages (from torch) (2.21.5)\n",
            "Requirement already satisfied: nvidia-nvtx-cu12==12.4.127 in /usr/local/lib/python3.11/dist-packages (from torch) (12.4.127)\n",
            "Collecting nvidia-nvjitlink-cu12==12.4.127 (from torch)\n",
            "  Downloading nvidia_nvjitlink_cu12-12.4.127-py3-none-manylinux2014_x86_64.whl.metadata (1.5 kB)\n",
            "Requirement already satisfied: triton==3.2.0 in /usr/local/lib/python3.11/dist-packages (from torch) (3.2.0)\n",
            "Requirement already satisfied: sympy==1.13.1 in /usr/local/lib/python3.11/dist-packages (from torch) (1.13.1)\n",
            "Requirement already satisfied: mpmath<1.4,>=1.1.0 in /usr/local/lib/python3.11/dist-packages (from sympy==1.13.1->torch) (1.3.0)\n",
            "Requirement already satisfied: numpy in /usr/local/lib/python3.11/dist-packages (from torchvision) (2.0.2)\n",
            "Requirement already satisfied: pillow!=8.3.*,>=5.3.0 in /usr/local/lib/python3.11/dist-packages (from torchvision) (11.1.0)\n",
            "Requirement already satisfied: tqdm in /usr/local/lib/python3.11/dist-packages (from torchtext) (4.67.1)\n",
            "Requirement already satisfied: requests in /usr/local/lib/python3.11/dist-packages (from torchtext) (2.32.3)\n",
            "Requirement already satisfied: contourpy>=1.0.1 in /usr/local/lib/python3.11/dist-packages (from matplotlib) (1.3.1)\n",
            "Requirement already satisfied: cycler>=0.10 in /usr/local/lib/python3.11/dist-packages (from matplotlib) (0.12.1)\n",
            "Requirement already satisfied: fonttools>=4.22.0 in /usr/local/lib/python3.11/dist-packages (from matplotlib) (4.56.0)\n",
            "Requirement already satisfied: kiwisolver>=1.3.1 in /usr/local/lib/python3.11/dist-packages (from matplotlib) (1.4.8)\n",
            "Requirement already satisfied: packaging>=20.0 in /usr/local/lib/python3.11/dist-packages (from matplotlib) (24.2)\n",
            "Requirement already satisfied: pyparsing>=2.3.1 in /usr/local/lib/python3.11/dist-packages (from matplotlib) (3.2.3)\n",
            "Requirement already satisfied: python-dateutil>=2.7 in /usr/local/lib/python3.11/dist-packages (from matplotlib) (2.8.2)\n",
            "Requirement already satisfied: six>=1.5 in /usr/local/lib/python3.11/dist-packages (from python-dateutil>=2.7->matplotlib) (1.17.0)\n",
            "Requirement already satisfied: MarkupSafe>=2.0 in /usr/local/lib/python3.11/dist-packages (from jinja2->torch) (3.0.2)\n",
            "Requirement already satisfied: charset-normalizer<4,>=2 in /usr/local/lib/python3.11/dist-packages (from requests->torchtext) (3.4.1)\n",
            "Requirement already satisfied: idna<4,>=2.5 in /usr/local/lib/python3.11/dist-packages (from requests->torchtext) (3.10)\n",
            "Requirement already satisfied: urllib3<3,>=1.21.1 in /usr/local/lib/python3.11/dist-packages (from requests->torchtext) (2.3.0)\n",
            "Requirement already satisfied: certifi>=2017.4.17 in /usr/local/lib/python3.11/dist-packages (from requests->torchtext) (2025.1.31)\n",
            "Downloading nvidia_cublas_cu12-12.4.5.8-py3-none-manylinux2014_x86_64.whl (363.4 MB)\n",
            "\u001b[2K   \u001b[90m━━━━━━━━━━━━━━━━━━━━━━━━━━━━━━━━━━━━━━━━\u001b[0m \u001b[32m363.4/363.4 MB\u001b[0m \u001b[31m3.5 MB/s\u001b[0m eta \u001b[36m0:00:00\u001b[0m\n",
            "\u001b[?25hDownloading nvidia_cuda_cupti_cu12-12.4.127-py3-none-manylinux2014_x86_64.whl (13.8 MB)\n",
            "\u001b[2K   \u001b[90m━━━━━━━━━━━━━━━━━━━━━━━━━━━━━━━━━━━━━━━━\u001b[0m \u001b[32m13.8/13.8 MB\u001b[0m \u001b[31m77.8 MB/s\u001b[0m eta \u001b[36m0:00:00\u001b[0m\n",
            "\u001b[?25hDownloading nvidia_cuda_nvrtc_cu12-12.4.127-py3-none-manylinux2014_x86_64.whl (24.6 MB)\n",
            "\u001b[2K   \u001b[90m━━━━━━━━━━━━━━━━━━━━━━━━━━━━━━━━━━━━━━━━\u001b[0m \u001b[32m24.6/24.6 MB\u001b[0m \u001b[31m61.6 MB/s\u001b[0m eta \u001b[36m0:00:00\u001b[0m\n",
            "\u001b[?25hDownloading nvidia_cuda_runtime_cu12-12.4.127-py3-none-manylinux2014_x86_64.whl (883 kB)\n",
            "\u001b[2K   \u001b[90m━━━━━━━━━━━━━━━━━━━━━━━━━━━━━━━━━━━━━━━━\u001b[0m \u001b[32m883.7/883.7 kB\u001b[0m \u001b[31m44.8 MB/s\u001b[0m eta \u001b[36m0:00:00\u001b[0m\n",
            "\u001b[?25hDownloading nvidia_cudnn_cu12-9.1.0.70-py3-none-manylinux2014_x86_64.whl (664.8 MB)\n",
            "\u001b[2K   \u001b[90m━━━━━━━━━━━━━━━━━━━━━━━━━━━━━━━━━━━━━━━━\u001b[0m \u001b[32m664.8/664.8 MB\u001b[0m \u001b[31m2.4 MB/s\u001b[0m eta \u001b[36m0:00:00\u001b[0m\n",
            "\u001b[?25hDownloading nvidia_cufft_cu12-11.2.1.3-py3-none-manylinux2014_x86_64.whl (211.5 MB)\n",
            "\u001b[2K   \u001b[90m━━━━━━━━━━━━━━━━━━━━━━━━━━━━━━━━━━━━━━━━\u001b[0m \u001b[32m211.5/211.5 MB\u001b[0m \u001b[31m5.7 MB/s\u001b[0m eta \u001b[36m0:00:00\u001b[0m\n",
            "\u001b[?25hDownloading nvidia_curand_cu12-10.3.5.147-py3-none-manylinux2014_x86_64.whl (56.3 MB)\n",
            "\u001b[2K   \u001b[90m━━━━━━━━━━━━━━━━━━━━━━━━━━━━━━━━━━━━━━━━\u001b[0m \u001b[32m56.3/56.3 MB\u001b[0m \u001b[31m12.5 MB/s\u001b[0m eta \u001b[36m0:00:00\u001b[0m\n",
            "\u001b[?25hDownloading nvidia_cusolver_cu12-11.6.1.9-py3-none-manylinux2014_x86_64.whl (127.9 MB)\n",
            "\u001b[2K   \u001b[90m━━━━━━━━━━━━━━━━━━━━━━━━━━━━━━━━━━━━━━━━\u001b[0m \u001b[32m127.9/127.9 MB\u001b[0m \u001b[31m7.4 MB/s\u001b[0m eta \u001b[36m0:00:00\u001b[0m\n",
            "\u001b[?25hDownloading nvidia_cusparse_cu12-12.3.1.170-py3-none-manylinux2014_x86_64.whl (207.5 MB)\n",
            "\u001b[2K   \u001b[90m━━━━━━━━━━━━━━━━━━━━━━━━━━━━━━━━━━━━━━━━\u001b[0m \u001b[32m207.5/207.5 MB\u001b[0m \u001b[31m6.6 MB/s\u001b[0m eta \u001b[36m0:00:00\u001b[0m\n",
            "\u001b[?25hDownloading nvidia_nvjitlink_cu12-12.4.127-py3-none-manylinux2014_x86_64.whl (21.1 MB)\n",
            "\u001b[2K   \u001b[90m━━━━━━━━━━━━━━━━━━━━━━━━━━━━━━━━━━━━━━━━\u001b[0m \u001b[32m21.1/21.1 MB\u001b[0m \u001b[31m95.3 MB/s\u001b[0m eta \u001b[36m0:00:00\u001b[0m\n",
            "\u001b[?25hDownloading torchtext-0.18.0-cp311-cp311-manylinux1_x86_64.whl (2.0 MB)\n",
            "\u001b[2K   \u001b[90m━━━━━━━━━━━━━━━━━━━━━━━━━━━━━━━━━━━━━━━━\u001b[0m \u001b[32m2.0/2.0 MB\u001b[0m \u001b[31m81.6 MB/s\u001b[0m eta \u001b[36m0:00:00\u001b[0m\n",
            "\u001b[?25hInstalling collected packages: nvidia-nvjitlink-cu12, nvidia-curand-cu12, nvidia-cufft-cu12, nvidia-cuda-runtime-cu12, nvidia-cuda-nvrtc-cu12, nvidia-cuda-cupti-cu12, nvidia-cublas-cu12, nvidia-cusparse-cu12, nvidia-cudnn-cu12, nvidia-cusolver-cu12, torchtext\n",
            "  Attempting uninstall: nvidia-nvjitlink-cu12\n",
            "    Found existing installation: nvidia-nvjitlink-cu12 12.5.82\n",
            "    Uninstalling nvidia-nvjitlink-cu12-12.5.82:\n",
            "      Successfully uninstalled nvidia-nvjitlink-cu12-12.5.82\n",
            "  Attempting uninstall: nvidia-curand-cu12\n",
            "    Found existing installation: nvidia-curand-cu12 10.3.6.82\n",
            "    Uninstalling nvidia-curand-cu12-10.3.6.82:\n",
            "      Successfully uninstalled nvidia-curand-cu12-10.3.6.82\n",
            "  Attempting uninstall: nvidia-cufft-cu12\n",
            "    Found existing installation: nvidia-cufft-cu12 11.2.3.61\n",
            "    Uninstalling nvidia-cufft-cu12-11.2.3.61:\n",
            "      Successfully uninstalled nvidia-cufft-cu12-11.2.3.61\n",
            "  Attempting uninstall: nvidia-cuda-runtime-cu12\n",
            "    Found existing installation: nvidia-cuda-runtime-cu12 12.5.82\n",
            "    Uninstalling nvidia-cuda-runtime-cu12-12.5.82:\n",
            "      Successfully uninstalled nvidia-cuda-runtime-cu12-12.5.82\n",
            "  Attempting uninstall: nvidia-cuda-nvrtc-cu12\n",
            "    Found existing installation: nvidia-cuda-nvrtc-cu12 12.5.82\n",
            "    Uninstalling nvidia-cuda-nvrtc-cu12-12.5.82:\n",
            "      Successfully uninstalled nvidia-cuda-nvrtc-cu12-12.5.82\n",
            "  Attempting uninstall: nvidia-cuda-cupti-cu12\n",
            "    Found existing installation: nvidia-cuda-cupti-cu12 12.5.82\n",
            "    Uninstalling nvidia-cuda-cupti-cu12-12.5.82:\n",
            "      Successfully uninstalled nvidia-cuda-cupti-cu12-12.5.82\n",
            "  Attempting uninstall: nvidia-cublas-cu12\n",
            "    Found existing installation: nvidia-cublas-cu12 12.5.3.2\n",
            "    Uninstalling nvidia-cublas-cu12-12.5.3.2:\n",
            "      Successfully uninstalled nvidia-cublas-cu12-12.5.3.2\n",
            "  Attempting uninstall: nvidia-cusparse-cu12\n",
            "    Found existing installation: nvidia-cusparse-cu12 12.5.1.3\n",
            "    Uninstalling nvidia-cusparse-cu12-12.5.1.3:\n",
            "      Successfully uninstalled nvidia-cusparse-cu12-12.5.1.3\n",
            "  Attempting uninstall: nvidia-cudnn-cu12\n",
            "    Found existing installation: nvidia-cudnn-cu12 9.3.0.75\n",
            "    Uninstalling nvidia-cudnn-cu12-9.3.0.75:\n",
            "      Successfully uninstalled nvidia-cudnn-cu12-9.3.0.75\n",
            "  Attempting uninstall: nvidia-cusolver-cu12\n",
            "    Found existing installation: nvidia-cusolver-cu12 11.6.3.83\n",
            "    Uninstalling nvidia-cusolver-cu12-11.6.3.83:\n",
            "      Successfully uninstalled nvidia-cusolver-cu12-11.6.3.83\n",
            "Successfully installed nvidia-cublas-cu12-12.4.5.8 nvidia-cuda-cupti-cu12-12.4.127 nvidia-cuda-nvrtc-cu12-12.4.127 nvidia-cuda-runtime-cu12-12.4.127 nvidia-cudnn-cu12-9.1.0.70 nvidia-cufft-cu12-11.2.1.3 nvidia-curand-cu12-10.3.5.147 nvidia-cusolver-cu12-11.6.1.9 nvidia-cusparse-cu12-12.3.1.170 nvidia-nvjitlink-cu12-12.4.127 torchtext-0.18.0\n"
          ]
        }
      ],
      "source": [
        "!pip install torch torchvision torchtext matplotlib"
      ]
    },
    {
      "cell_type": "code",
      "source": [
        "# Importing the necessary libraries\n",
        "import torch\n",
        "import numpy as np\n",
        "import random\n",
        "import torch.nn as nn\n",
        "import matplotlib.pyplot as plt\n",
        "from torch.utils.data import Dataset, DataLoader"
      ],
      "metadata": {
        "id": "ZQxMXeh-qYk6"
      },
      "execution_count": 3,
      "outputs": []
    },
    {
      "cell_type": "code",
      "source": [
        "# Checking for GPU Access\n",
        "print(\"GPU Available:\", torch.cuda.is_available())\n",
        "print(\"GPU Name:\", torch.cuda.get_device_name(0) if torch.cuda.is_available() else \"No GPU\")"
      ],
      "metadata": {
        "colab": {
          "base_uri": "https://localhost:8080/"
        },
        "id": "XNmZMaaoqPZ9",
        "outputId": "b5b239a7-43b5-4cbd-c777-2981523dcbd9"
      },
      "execution_count": 4,
      "outputs": [
        {
          "output_type": "stream",
          "name": "stdout",
          "text": [
            "GPU Available: True\n",
            "GPU Name: Tesla T4\n"
          ]
        }
      ]
    },
    {
      "cell_type": "code",
      "source": [
        "# Device configuration\n",
        "device = torch.device('cuda' if torch.cuda.is_available() else 'cpu')\n",
        "\n",
        "# Function to generate synthetic data\n",
        "def generate_data(num_samples, seq_len, vocab_size):\n",
        "    data = []\n",
        "    for _ in range(num_samples):\n",
        "        src = [random.randint(1, vocab_size - 1) for _ in range(seq_len)]  # Random sequence\n",
        "        tgt = src[::-1]  # Reverse sequence as target\n",
        "        data.append((src, tgt))\n",
        "    return data\n",
        "\n",
        "# Define parameters\n",
        "vocab_size = 20             # Vocabulary size (words/integers)\n",
        "seq_len = 30                # Length of each sequence\n",
        "num_samples = 100000        # Number of training examples\n",
        "\n",
        "# Generate dataset\n",
        "data = generate_data(num_samples, seq_len, vocab_size)\n",
        "\n",
        "# Print a sample\n",
        "print(\"Example Source Sequence:\", data[0][0])\n",
        "print(\"Example Target (Reversed) Sequence:\", data[0][1])"
      ],
      "metadata": {
        "colab": {
          "base_uri": "https://localhost:8080/"
        },
        "id": "2q7GuxpdqQuU",
        "outputId": "a076859c-49d5-4a7b-f394-158360cbe07d"
      },
      "execution_count": 5,
      "outputs": [
        {
          "output_type": "stream",
          "name": "stdout",
          "text": [
            "Example Source Sequence: [12, 15, 13, 17, 8, 9, 13, 2, 3, 4, 17, 14, 7, 7, 14, 9, 9, 14, 8, 6, 14, 2, 18, 9, 18, 19, 16, 12, 15, 10]\n",
            "Example Target (Reversed) Sequence: [10, 15, 12, 16, 19, 18, 9, 18, 2, 14, 6, 8, 14, 9, 9, 14, 7, 7, 14, 17, 4, 3, 2, 13, 9, 8, 17, 13, 15, 12]\n"
          ]
        }
      ]
    },
    {
      "cell_type": "code",
      "source": [
        "# Custom Dataset for Seq2Seq tasks\n",
        "class Seq2SeqDataset(Dataset):\n",
        "    def __init__(self, data):\n",
        "        self.data = data\n",
        "\n",
        "    def __len__(self):\n",
        "        return len(self.data)\n",
        "\n",
        "    def __getitem__(self, idx):\n",
        "        src, tgt = self.data[idx]\n",
        "        return torch.tensor(src, dtype=torch.long), torch.tensor(tgt, dtype=torch.long)\n",
        "\n",
        "# Initialize dataset and dataloader\n",
        "dataset = Seq2SeqDataset(data)\n",
        "dataloader = DataLoader(dataset, batch_size=32, shuffle=True)\n",
        "\n",
        "# Check a sample batch\n",
        "for src_batch, tgt_batch in dataloader:\n",
        "    print(\"Source Batch Shape:\", src_batch.shape)\n",
        "    print(\"Target Batch Shape:\", tgt_batch.shape)\n",
        "    break  # Only print one batch\n"
      ],
      "metadata": {
        "colab": {
          "base_uri": "https://localhost:8080/"
        },
        "id": "f2Tys-gWqQrp",
        "outputId": "fdefdfa2-b76c-46d5-fef5-b3341a025333"
      },
      "execution_count": 6,
      "outputs": [
        {
          "output_type": "stream",
          "name": "stdout",
          "text": [
            "Source Batch Shape: torch.Size([32, 30])\n",
            "Target Batch Shape: torch.Size([32, 30])\n"
          ]
        }
      ]
    },
    {
      "cell_type": "code",
      "source": [
        "# Attention Module\n",
        "class Attention(nn.Module):\n",
        "    def __init__(self, hidden_size):\n",
        "        super(Attention, self).__init__()\n",
        "        self.attn = nn.Linear(hidden_size * 2, hidden_size)\n",
        "        self.v = nn.Parameter(torch.rand(hidden_size))\n",
        "\n",
        "    def forward(self, hidden, encoder_outputs):\n",
        "        max_len = encoder_outputs.size(1)\n",
        "        H = hidden.repeat(max_len, 1, 1).transpose(0, 1)\n",
        "        attn_energies = self.score(H, encoder_outputs)\n",
        "        return torch.softmax(attn_energies, dim=1).unsqueeze(1)\n",
        "\n",
        "    def score(self, hidden, encoder_outputs):\n",
        "        energy = torch.tanh(self.attn(torch.cat([hidden, encoder_outputs], 2)))\n",
        "        energy = energy.transpose(1, 2)\n",
        "        v = self.v.repeat(encoder_outputs.size(0), 1).unsqueeze(1)\n",
        "        energy = torch.bmm(v, energy)\n",
        "        return energy.squeeze(1)\n",
        "\n",
        "# Define model parameters\n",
        "hidden_size = 512  # Same as LSTM hidden state size\n",
        "\n",
        "# Initialize Attention\n",
        "attention = Attention(hidden_size)\n",
        "\n",
        "# Check the module\n",
        "print(attention)\n"
      ],
      "metadata": {
        "colab": {
          "base_uri": "https://localhost:8080/"
        },
        "id": "d6TGh0sXqQot",
        "outputId": "53dbf0a2-c8f8-403b-ebf0-f72f9211256f"
      },
      "execution_count": 7,
      "outputs": [
        {
          "output_type": "stream",
          "name": "stdout",
          "text": [
            "Attention(\n",
            "  (attn): Linear(in_features=1024, out_features=512, bias=True)\n",
            ")\n"
          ]
        }
      ]
    },
    {
      "cell_type": "code",
      "source": [
        "# Encoder\n",
        "class Encoder(nn.Module):\n",
        "    def __init__(self, input_size, embed_size, hidden_size, num_layers):\n",
        "        super(Encoder, self).__init__()\n",
        "        self.embedding = nn.Embedding(input_size, embed_size)  # Embedding Layer\n",
        "        self.lstm = nn.LSTM(embed_size, hidden_size, num_layers, batch_first=True)  # LSTM Layer\n",
        "\n",
        "    def forward(self, x):\n",
        "        embedding = self.embedding(x)  # Convert input to embeddings\n",
        "        outputs, (hidden, cell) = self.lstm(embedding)  # Pass through LSTM\n",
        "        return outputs, hidden, cell  # Return all LSTM outputs and final hidden, cell states\n",
        "\n",
        "# Define model parameters\n",
        "embed_size = 256\n",
        "num_layers = 2\n",
        "\n",
        "# Initialize Encoder\n",
        "encoder = Encoder(input_size = vocab_size, embed_size = embed_size, hidden_size = hidden_size, num_layers = num_layers).to(device)\n",
        "\n",
        "# Check the module\n",
        "print(encoder)"
      ],
      "metadata": {
        "colab": {
          "base_uri": "https://localhost:8080/"
        },
        "id": "XtQiRLJGqxUY",
        "outputId": "ae1fc678-fa9d-433b-c62b-0f98cc9e58a7"
      },
      "execution_count": 8,
      "outputs": [
        {
          "output_type": "stream",
          "name": "stdout",
          "text": [
            "Encoder(\n",
            "  (embedding): Embedding(20, 256)\n",
            "  (lstm): LSTM(256, 512, num_layers=2, batch_first=True)\n",
            ")\n"
          ]
        }
      ]
    },
    {
      "cell_type": "code",
      "source": [
        "class Decoder(nn.Module):\n",
        "    def __init__(self, output_size, embed_size, hidden_size, num_layers, attention):\n",
        "        super(Decoder, self).__init__()\n",
        "        self.output_size = output_size\n",
        "        self.attention = attention\n",
        "        self.embedding = nn.Embedding(output_size, embed_size)\n",
        "        self.lstm = nn.LSTM(hidden_size + embed_size, hidden_size, num_layers, batch_first=True)\n",
        "        self.fc = nn.Linear(hidden_size, output_size)\n",
        "\n",
        "    def forward(self, x, hidden, cell, encoder_outputs):\n",
        "        x = x.unsqueeze(1)\n",
        "        embedding = self.embedding(x)\n",
        "        attn_weights = self.attention(hidden[-1], encoder_outputs)  # [batch, 1, seq_len]\n",
        "        context = attn_weights.bmm(encoder_outputs)                 # [batch, 1, hidden]\n",
        "        rnn_input = torch.cat((embedding, context), dim=2)\n",
        "        outputs, (hidden, cell) = self.lstm(rnn_input, (hidden, cell))\n",
        "        predictions = self.fc(outputs.squeeze(1))                   # [batch, vocab]\n",
        "        return predictions, hidden, cell, attn_weights\n",
        "\n",
        "# Initialize Decoder\n",
        "decoder = Decoder(output_size=vocab_size, embed_size=embed_size, hidden_size=hidden_size, num_layers=num_layers, attention=attention).to(device)\n",
        "\n",
        "# Check the module\n",
        "print(decoder)\n"
      ],
      "metadata": {
        "colab": {
          "base_uri": "https://localhost:8080/"
        },
        "id": "mHv6RxCCqxPy",
        "outputId": "7346d0ce-aee8-48bf-f7f9-714a181c3288"
      },
      "execution_count": 9,
      "outputs": [
        {
          "output_type": "stream",
          "name": "stdout",
          "text": [
            "Decoder(\n",
            "  (attention): Attention(\n",
            "    (attn): Linear(in_features=1024, out_features=512, bias=True)\n",
            "  )\n",
            "  (embedding): Embedding(20, 256)\n",
            "  (lstm): LSTM(768, 512, num_layers=2, batch_first=True)\n",
            "  (fc): Linear(in_features=512, out_features=20, bias=True)\n",
            ")\n"
          ]
        }
      ]
    },
    {
      "cell_type": "code",
      "source": [
        "class Seq2Seq(nn.Module):\n",
        "    def __init__(self, encoder, decoder):\n",
        "        super(Seq2Seq, self).__init__()\n",
        "        self.encoder = encoder\n",
        "        self.decoder = decoder\n",
        "\n",
        "    def forward(self, source, target, teacher_forcing_ratio=0.5):\n",
        "        batch_size = source.shape[0]\n",
        "        target_len = target.shape[1]\n",
        "        target_vocab_size = self.decoder.output_size\n",
        "\n",
        "        outputs = torch.zeros(batch_size, target_len, target_vocab_size).to(device)\n",
        "        attentions = torch.zeros(batch_size, target_len, source.shape[1]).to(device)  # [batch, tgt_len, src_len]\n",
        "\n",
        "        encoder_outputs, hidden, cell = self.encoder(source)\n",
        "        x = target[:, 0]\n",
        "\n",
        "        for t in range(1, target_len):\n",
        "            output, hidden, cell, attn_weights = self.decoder(x, hidden, cell, encoder_outputs)\n",
        "            outputs[:, t, :] = output\n",
        "            attentions[:, t, :] = attn_weights.squeeze(1)  # Save attention weights\n",
        "            teacher_force = random.random() < teacher_forcing_ratio\n",
        "            x = target[:, t] if teacher_force else output.argmax(1)\n",
        "\n",
        "        return outputs, attentions\n",
        "\n",
        "\n",
        "# Initialize model\n",
        "seq2seq = Seq2Seq(encoder, decoder).to(device)\n",
        "\n",
        "# Check the model\n",
        "print(seq2seq)\n"
      ],
      "metadata": {
        "colab": {
          "base_uri": "https://localhost:8080/"
        },
        "id": "seBvo1qgqxLt",
        "outputId": "a27b10e5-2e29-4a5b-dea3-3f447c37148f"
      },
      "execution_count": 10,
      "outputs": [
        {
          "output_type": "stream",
          "name": "stdout",
          "text": [
            "Seq2Seq(\n",
            "  (encoder): Encoder(\n",
            "    (embedding): Embedding(20, 256)\n",
            "    (lstm): LSTM(256, 512, num_layers=2, batch_first=True)\n",
            "  )\n",
            "  (decoder): Decoder(\n",
            "    (attention): Attention(\n",
            "      (attn): Linear(in_features=1024, out_features=512, bias=True)\n",
            "    )\n",
            "    (embedding): Embedding(20, 256)\n",
            "    (lstm): LSTM(768, 512, num_layers=2, batch_first=True)\n",
            "    (fc): Linear(in_features=512, out_features=20, bias=True)\n",
            "  )\n",
            ")\n"
          ]
        }
      ]
    },
    {
      "cell_type": "code",
      "source": [
        "criterion = nn.CrossEntropyLoss()\n",
        "optimizer = torch.optim.Adam(seq2seq.parameters(), lr=0.001)"
      ],
      "metadata": {
        "id": "k6ambaLUq6mK"
      },
      "execution_count": 11,
      "outputs": []
    },
    {
      "cell_type": "code",
      "source": [
        "def train_model(model, dataloader, optimizer, criterion, num_epochs=10, teacher_forcing_ratio=0.5):\n",
        "    model.train()\n",
        "    loss_history = []\n",
        "\n",
        "    for epoch in range(num_epochs):\n",
        "        loss_list = []\n",
        "        for source, target in dataloader:\n",
        "            source, target = source.to(device), target.to(device)\n",
        "\n",
        "            optimizer.zero_grad()\n",
        "            # Unpack the outputs from the model\n",
        "            outputs, _ = model(source, target, teacher_forcing_ratio)\n",
        "\n",
        "            # Reshape output and target for loss computation\n",
        "            output_dim = outputs.shape[-1]\n",
        "            output = outputs[:, 1:].reshape(-1, output_dim)  # Ignore <SOS>\n",
        "            target = target[:, 1:].reshape(-1)\n",
        "\n",
        "            loss = criterion(output, target)\n",
        "            loss.backward()\n",
        "            optimizer.step()\n",
        "\n",
        "            loss_list.append(loss.item())           # Append batch loss\n",
        "\n",
        "        avg_loss = sum(loss_list) / len(loss_list)  # Compute average loss\n",
        "        loss_history.append(avg_loss)               # Store average loss\n",
        "\n",
        "        print(f\"Epoch {epoch+1}/{num_epochs} - Loss: {avg_loss:.4f}\")\n",
        "\n",
        "    print(\"Training completed successfully!\")\n",
        "    return loss_history\n",
        "\n",
        "# Train and store loss history\n",
        "loss_history = train_model(seq2seq, dataloader, optimizer, criterion, num_epochs=10)\n",
        "\n",
        "# Plot the loss curve\n",
        "plt.plot(range(1, len(loss_history) + 1), loss_history, marker='o', linestyle='-')\n",
        "plt.xlabel(\"Epoch\")\n",
        "plt.ylabel(\"Loss\")\n",
        "plt.title(\"Training Loss Curve\")\n",
        "plt.grid(True)\n",
        "plt.show()\n"
      ],
      "metadata": {
        "colab": {
          "base_uri": "https://localhost:8080/",
          "height": 663
        },
        "id": "_tcalomOq9FH",
        "outputId": "af19f0f9-8b39-4e65-bcc1-6fcf2bef82a4"
      },
      "execution_count": 12,
      "outputs": [
        {
          "output_type": "stream",
          "name": "stdout",
          "text": [
            "Epoch 1/10 - Loss: 0.2380\n",
            "Epoch 2/10 - Loss: 0.1624\n",
            "Epoch 3/10 - Loss: 0.0148\n",
            "Epoch 4/10 - Loss: 0.0076\n",
            "Epoch 5/10 - Loss: 0.0058\n",
            "Epoch 6/10 - Loss: 0.0058\n",
            "Epoch 7/10 - Loss: 0.0033\n",
            "Epoch 8/10 - Loss: 0.0039\n",
            "Epoch 9/10 - Loss: 0.0025\n",
            "Epoch 10/10 - Loss: 0.0028\n",
            "Training completed successfully!\n"
          ]
        },
        {
          "output_type": "display_data",
          "data": {
            "text/plain": [
              "<Figure size 640x480 with 1 Axes>"
            ],
            "image/png": "[encoded data removed]"
          },
          "metadata": {}
        }
      ]
    },
    {
      "cell_type": "code",
      "source": [
        "def evaluate(model, dataloader):\n",
        "    model.eval()\n",
        "    total_correct = 0\n",
        "    total_words = 0\n",
        "\n",
        "    with torch.no_grad():\n",
        "        for source, target in dataloader:\n",
        "            source, target = source.to(device), target.to(device)\n",
        "            # Get outputs and attentions from the model\n",
        "            outputs, _ = model(source, target, 0)  # No teacher forcing during evaluation\n",
        "\n",
        "            # Use outputs for argmax (it contains the predictions)\n",
        "            output = outputs.argmax(dim=-1)  # Get predicted indices\n",
        "\n",
        "            # Compare with actual target (ignoring <SOS> token)\n",
        "            correct = (output[:, 1:] == target[:, 1:]).sum().item()\n",
        "            total_correct += correct\n",
        "            total_words += target[:, 1:].numel()\n",
        "\n",
        "    accuracy = total_correct / total_words * 100\n",
        "    print(f\"Model Accuracy on Test Data: {accuracy:.2f}%\")\n",
        "\n",
        "# Run evaluation\n",
        "evaluate(seq2seq, dataloader)\n"
      ],
      "metadata": {
        "colab": {
          "base_uri": "https://localhost:8080/"
        },
        "id": "XsbXlTMZrC4n",
        "outputId": "e229370a-f1d3-4aae-b3e2-41781f2e4880"
      },
      "execution_count": 13,
      "outputs": [
        {
          "output_type": "stream",
          "name": "stdout",
          "text": [
            "Model Accuracy on Test Data: 99.83%\n"
          ]
        }
      ]
    },
    {
      "cell_type": "code",
      "source": [
        "seq2seq.eval()\n",
        "with torch.no_grad():\n",
        "    for i, (src, tgt) in enumerate(dataloader):\n",
        "        src, tgt = src.to(device), tgt.to(device)\n",
        "\n",
        "        # Unpack the output tuple into outputs and attentions\n",
        "        outputs, attentions = seq2seq(src, tgt, teacher_forcing_ratio=0)\n",
        "\n",
        "        # Use 'outputs' for further processing (it contains the model predictions)\n",
        "        output = outputs[:, 1:].reshape(-1, outputs.shape[2])\n",
        "        tgt = tgt[:, 1:].reshape(-1)\n",
        "\n",
        "        pred = output.argmax(1).view(-1, seq_len-1)\n",
        "        print(f'Source:\\n {src[0].cpu().numpy()}')\n",
        "        print(f'\\nTarget:\\n {tgt.view(-1, seq_len-1)[0].cpu().numpy()}')\n",
        "        print(f'\\nPredicted:\\n {pred[0].cpu().numpy()}')\n",
        "        break"
      ],
      "metadata": {
        "colab": {
          "base_uri": "https://localhost:8080/"
        },
        "id": "ge3yB5HJs71n",
        "outputId": "0ef0dd10-c89d-4a9d-ea1e-f16a8cb3e91a"
      },
      "execution_count": 14,
      "outputs": [
        {
          "output_type": "stream",
          "name": "stdout",
          "text": [
            "Source:\n",
            " [ 6  9  6  4 14  8 14  5  2  6 11 13  9 15  7  9 18 16 13 19  3  8  2  6\n",
            "  9  6 13 16 19 18]\n",
            "\n",
            "Target:\n",
            " [19 16 13  6  9  6  2  8  3 19 13 16 18  9  7 15  9 13 11  6  2  5 14  8\n",
            " 14  4  6  9  6]\n",
            "\n",
            "Predicted:\n",
            " [19 16 13  6  9  6  2  8  3 19 13 16 18  9  7 15  9 13 11  6  2  5 14  8\n",
            " 14  4  6  9  6]\n"
          ]
        }
      ]
    },
    {
      "cell_type": "code",
      "source": [
        "# Saving the model in drive\n",
        "from google.colab import drive\n",
        "drive.mount('/content/drive')"
      ],
      "metadata": {
        "colab": {
          "base_uri": "https://localhost:8080/"
        },
        "id": "RPzJQuISs-hg",
        "outputId": "c218b0ec-996e-49e0-a98f-70cbec4b2fb7"
      },
      "execution_count": 17,
      "outputs": [
        {
          "output_type": "stream",
          "name": "stdout",
          "text": [
            "Drive already mounted at /content/drive; to attempt to forcibly remount, call drive.mount(\"/content/drive\", force_remount=True).\n"
          ]
        }
      ]
    },
    {
      "cell_type": "code",
      "source": [
        "# Defining path to Seq2Seq folder\n",
        "save_path = \"/content/drive/MyDrive/Seq2Seq/seq2seq_model.pth\"\n",
        "\n",
        "# Save the entire model\n",
        "torch.save(seq2seq.state_dict(), save_path)\n",
        "print(f\"Model saved Successfully!\")\n"
      ],
      "metadata": {
        "colab": {
          "base_uri": "https://localhost:8080/"
        },
        "id": "rGij8-z1s-fB",
        "outputId": "04d62080-7f6c-4a22-fda9-c6069079526e"
      },
      "execution_count": 18,
      "outputs": [
        {
          "output_type": "stream",
          "name": "stdout",
          "text": [
            "Model saved Successfully!\n"
          ]
        }
      ]
    },
    {
      "cell_type": "markdown",
      "source": [
        "\n",
        "\n",
        "---\n",
        "\n"
      ],
      "metadata": {
        "id": "Pd-J7m8L5g3p"
      }
    },
    {
      "cell_type": "markdown",
      "source": [
        "**Loading the saved model and working on it**"
      ],
      "metadata": {
        "id": "tETo6IVt5g0x"
      }
    },
    {
      "cell_type": "code",
      "source": [
        "# Loading the saved model from drive\n",
        "loaded_model = Seq2Seq(encoder, decoder).to(device)\n",
        "loaded_model.load_state_dict(torch.load(save_path))\n",
        "loaded_model.eval()\n",
        "print(\"Model loaded successfully!\")"
      ],
      "metadata": {
        "colab": {
          "base_uri": "https://localhost:8080/"
        },
        "id": "u-c_tdnLs-bX",
        "outputId": "d455182d-3899-44c0-dcaa-2aceef4c5fe9"
      },
      "execution_count": 20,
      "outputs": [
        {
          "output_type": "stream",
          "name": "stdout",
          "text": [
            "Model loaded successfully!\n"
          ]
        }
      ]
    },
    {
      "cell_type": "code",
      "source": [
        "# Re-evaluating on the loaded model\n",
        "\n",
        "evaluate(loaded_model, dataloader)"
      ],
      "metadata": {
        "colab": {
          "base_uri": "https://localhost:8080/"
        },
        "id": "G1MQdS2O5FsL",
        "outputId": "58168626-effd-46bb-8544-84cfea656d78"
      },
      "execution_count": 21,
      "outputs": [
        {
          "output_type": "stream",
          "name": "stdout",
          "text": [
            "Model Accuracy on Test Data: 99.83%\n"
          ]
        }
      ]
    },
    {
      "cell_type": "code",
      "source": [
        "def visualize_attention(source_seq, target_seq, attention_weights):\n",
        "    import seaborn as sns\n",
        "    import numpy as np\n",
        "\n",
        "    fig = plt.figure(figsize=(10, 8))\n",
        "    ax = fig.add_subplot(111)\n",
        "    attention = attention_weights.squeeze(0).cpu().detach().numpy()  # [tgt_len, src_len]\n",
        "\n",
        "    sns.heatmap(attention, xticklabels=source_seq, yticklabels=target_seq[1:], cmap='Blues', cbar=True, ax=ax)\n",
        "    ax.set_xlabel(\"Source Sequence\")\n",
        "    ax.set_ylabel(\"Target Sequence\")\n",
        "    plt.title(\"Attention Heatmap\")\n",
        "    plt.show()\n",
        "\n",
        "\n",
        "#\n",
        "seq2seq.eval()\n",
        "with torch.no_grad():\n",
        "    for src, tgt in dataloader:\n",
        "        src, tgt = src.to(device), tgt.to(device)\n",
        "        outputs, attentions = seq2seq(src, tgt, teacher_forcing_ratio=0)\n",
        "        preds = outputs.argmax(2)\n",
        "\n",
        "        # Convert to CPU lists\n",
        "        source_seq = src[0].cpu().numpy()\n",
        "        target_seq = tgt[0].cpu().numpy()\n",
        "        attn_weights = attentions[0]  # Shape: [tgt_len, src_len]\n",
        "\n",
        "        print(\"Source Sequence:\\n\", source_seq)\n",
        "        print(\"\\nTarget Sequence:\\n\", target_seq)\n",
        "        print(\"\\nPredicted Sequence:\\n\", preds[0].cpu().numpy())\n",
        "\n",
        "        # Visualize\n",
        "        visualize_attention(source_seq, target_seq, attn_weights)\n",
        "\n",
        "        break  # Just one sample\n"
      ],
      "metadata": {
        "colab": {
          "base_uri": "https://localhost:8080/",
          "height": 909
        },
        "id": "wSqo7xP05Ql-",
        "outputId": "29322de6-2398-4ba3-fa42-708d5aaa9ae9"
      },
      "execution_count": 25,
      "outputs": [
        {
          "output_type": "stream",
          "name": "stdout",
          "text": [
            "Source Sequence:\n",
            " [16 10 10  2 18  2 13 18 13  2  1  9  5  8  8 13 18 10 16  3  1  7  4  4\n",
            " 12 19 13 16 13 11]\n",
            "\n",
            "Target Sequence:\n",
            " [11 13 16 13 19 12  4  4  7  1  3 16 10 18 13  8  8  5  9  1  2 13 18 13\n",
            "  2 18  2 10 10 16]\n",
            "\n",
            "Predicted Sequence:\n",
            " [ 0 13 16 13 19 12  4  4  7  1  3 16 10 18 13  8  8  5  9  1  2 13 18 13\n",
            "  2 18  2 10 10 16]\n"
          ]
        },
        {
          "output_type": "display_data",
          "data": {
            "text/plain": [
              "<Figure size 1000x800 with 2 Axes>"
            ],
            "image/png": "[encoded data removed]"
          },
          "metadata": {}
        }
      ]
    },
    {
      "cell_type": "code",
      "source": [
        "# Create test dataset\n",
        "test_data = generate_data(num_samples=1000, seq_len=30, vocab_size=vocab_size)\n",
        "test_dataset = Seq2SeqDataset(test_data)\n",
        "test_loader = DataLoader(test_dataset, batch_size=32)\n",
        "\n",
        "\n",
        "def evaluate_model(model, dataloader):\n",
        "    model.eval()\n",
        "    total = 0\n",
        "    correct = 0\n",
        "\n",
        "    with torch.no_grad():\n",
        "        for src, tgt in dataloader:\n",
        "            src, tgt = src.to(device), tgt.to(device)\n",
        "            output, _ = model(src, tgt, teacher_forcing_ratio=0)\n",
        "            predictions = output.argmax(dim=2)  # [batch, tgt_len]\n",
        "\n",
        "            # Exclude the first token (start token) from accuracy\n",
        "            correct += (predictions[:, 1:] == tgt[:, 1:]).sum().item()\n",
        "            total += (tgt[:, 1:].numel())\n",
        "\n",
        "    accuracy = correct / total\n",
        "    print(f\"Test Accuracy on Unseen Data: {accuracy * 100:.2f}%\")\n",
        "\n",
        "\n",
        "evaluate_model(seq2seq, test_loader)"
      ],
      "metadata": {
        "colab": {
          "base_uri": "https://localhost:8080/"
        },
        "id": "3-YRcOeS5Qis",
        "outputId": "ff561860-1aed-4c67-be98-42598297fb58"
      },
      "execution_count": 26,
      "outputs": [
        {
          "output_type": "stream",
          "name": "stdout",
          "text": [
            "Test Accuracy on Unseen Data: 99.92%\n"
          ]
        }
      ]
    }
  ]
}